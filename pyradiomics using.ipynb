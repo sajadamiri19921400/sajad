{
 "cells": [
  {
   "cell_type": "code",
   "execution_count": 8,
   "id": "093a940d-b74f-41ff-b670-bc4e26c68473",
   "metadata": {},
   "outputs": [
    {
     "name": "stderr",
     "output_type": "stream",
     "text": [
      "GLCM is symmetrical, therefore Sum Average = 2 * Joint Average, only 1 needs to be calculated\n"
     ]
    },
    {
     "name": "stdout",
     "output_type": "stream",
     "text": [
      "OrderedDict([('diagnostics_Versions_PyRadiomics', 'v3.1.0'), ('diagnostics_Versions_Numpy', '1.23.5'), ('diagnostics_Versions_SimpleITK', '2.4.0'), ('diagnostics_Versions_PyWavelet', '1.6.0'), ('diagnostics_Versions_Python', '3.9.19'), ('diagnostics_Configuration_Settings', {'minimumROIDimensions': 2, 'minimumROISize': None, 'normalize': False, 'normalizeScale': 1, 'removeOutliers': None, 'resampledPixelSpacing': None, 'interpolator': 'sitkBSpline', 'preCrop': False, 'padDistance': 5, 'distances': [1], 'force2D': False, 'force2Ddimension': 0, 'resegmentRange': None, 'label': 1, 'additionalInfo': True}), ('diagnostics_Configuration_EnabledImageTypes', {'Original': {}}), ('diagnostics_Image-original_Hash', '8f8dcda00b100aef1c90085b830a696b455f13bc'), ('diagnostics_Image-original_Dimensionality', '3D'), ('diagnostics_Image-original_Spacing', (0.6640625, 0.6640625, 1.4999999999999996)), ('diagnostics_Image-original_Size', (256, 256, 60)), ('diagnostics_Image-original_Mean', 108.09335428873698), ('diagnostics_Image-original_Minimum', 0.0), ('diagnostics_Image-original_Maximum', 835.0), ('diagnostics_Mask-original_Hash', '218884395d3062cec7fca539e873a762bd510644'), ('diagnostics_Mask-original_Spacing', (0.6640625, 0.6640625, 1.4999999999999996)), ('diagnostics_Mask-original_Size', (256, 256, 60)), ('diagnostics_Mask-original_BoundingBox', (87, 110, 10, 78, 59, 37)), ('diagnostics_Mask-original_VoxelNum', 74253), ('diagnostics_Mask-original_VolumeNum', 1), ('diagnostics_Mask-original_CenterOfMassIndex', (125.84651125207063, 137.6937632149543, 28.1971368160209)), ('diagnostics_Mask-original_CenterOfMass', (-24.362187657316383, 25.392777635418867, -32.58536777401554)), ('original_shape_Elongation', 0.9114655152947463), ('original_shape_Flatness', 0.7320712226921399), ('original_shape_LeastAxisLength', 34.327651199737254), ('original_shape_MajorAxisLength', 46.89113591092921), ('original_shape_Maximum2DDiameterColumn', array(56.16738779)), ('original_shape_Maximum2DDiameterRow', array(55.16740824)), ('original_shape_Maximum2DDiameterSlice', array(52.06859818)), ('original_shape_Maximum3DDiameter', array(57.67040233)), ('original_shape_MeshVolume', array(49074.8169899)), ('original_shape_MinorAxisLength', 42.73965335581108), ('original_shape_Sphericity', array(0.84446634)), ('original_shape_SurfaceArea', array(7676.10501321)), ('original_shape_SurfaceVolumeRatio', array(0.15641638)), ('original_shape_VoxelVolume', 49116.02096557616), ('original_firstorder_10Percentile', array(37.)), ('original_firstorder_90Percentile', array(263.)), ('original_firstorder_Energy', array(1.95925709e+09)), ('original_firstorder_Entropy', array(3.67723543)), ('original_firstorder_InterquartileRange', array(110.)), ('original_firstorder_Kurtosis', array(6.17982009)), ('original_firstorder_Maximum', array(811.)), ('original_firstorder_MeanAbsoluteDeviation', array(72.41945072)), ('original_firstorder_Mean', array(131.86878645)), ('original_firstorder_Median', array(106.)), ('original_firstorder_Minimum', array(0.)), ('original_firstorder_Range', array(811.)), ('original_firstorder_RobustMeanAbsoluteDeviation', array(47.69026101)), ('original_firstorder_RootMeanSquared', array(162.43840286)), ('original_firstorder_Skewness', array(1.46779001)), ('original_firstorder_TotalEnergy', array(1.29598686e+09)), ('original_firstorder_Uniformity', array(0.09748608)), ('original_firstorder_Variance', array(8996.85788569)), ('original_glcm_Autocorrelation', array(43.78470286)), ('original_glcm_ClusterProminence', array(13588.36785567)), ('original_glcm_ClusterShade', array(468.49165126)), ('original_glcm_ClusterTendency', array(47.89461653)), ('original_glcm_Contrast', array(9.90012011)), ('original_glcm_Correlation', array(0.65735497)), ('original_glcm_DifferenceAverage', array(2.1298485)), ('original_glcm_DifferenceEntropy', array(2.74471041)), ('original_glcm_DifferenceVariance', array(5.27212754)), ('original_glcm_Id', array(0.48107374)), ('original_glcm_Idm', array(0.41782411)), ('original_glcm_Idmn', array(0.99141881)), ('original_glcm_Idn', array(0.94300161)), ('original_glcm_Imc1', array(-0.1229162)), ('original_glcm_Imc2', array(0.75564352)), ('original_glcm_InverseVariance', array(0.37876191)), ('original_glcm_JointAverage', array(5.8554212)), ('original_glcm_JointEnergy', array(0.01522733)), ('original_glcm_JointEntropy', array(6.9145241)), ('original_glcm_MCC', array(0.66384641)), ('original_glcm_MaximumProbability', array(0.04529034)), ('original_glcm_SumAverage', array(11.71084241)), ('original_glcm_SumEntropy', array(4.56424969)), ('original_glcm_SumSquares', array(14.44868416)), ('original_gldm_DependenceEntropy', array(7.25163561)), ('original_gldm_DependenceNonUniformity', array(6380.36654411)), ('original_gldm_DependenceNonUniformityNormalized', array(0.08592739)), ('original_gldm_DependenceVariance', array(14.69547646)), ('original_gldm_GrayLevelNonUniformity', array(7238.63392725)), ('original_gldm_GrayLevelVariance', array(14.39762619)), ('original_gldm_HighGrayLevelEmphasis', array(48.06397048)), ('original_gldm_LargeDependenceEmphasis', array(52.23310843)), ('original_gldm_LargeDependenceHighGrayLevelEmphasis', array(1377.97565082)), ('original_gldm_LargeDependenceLowGrayLevelEmphasis', array(9.99829907)), ('original_gldm_LowGrayLevelEmphasis', array(0.11933336)), ('original_gldm_SmallDependenceEmphasis', array(0.11599387)), ('original_gldm_SmallDependenceHighGrayLevelEmphasis', array(10.32658336)), ('original_gldm_SmallDependenceLowGrayLevelEmphasis', array(0.00912767)), ('original_glrlm_GrayLevelNonUniformity', array(5469.30825115)), ('original_glrlm_GrayLevelNonUniformityNormalized', array(0.09173604)), ('original_glrlm_GrayLevelVariance', array(15.23254442)), ('original_glrlm_HighGrayLevelRunEmphasis', array(52.07968147)), ('original_glrlm_LongRunEmphasis', array(1.94735031)), ('original_glrlm_LongRunHighGrayLevelEmphasis', array(80.11386531)), ('original_glrlm_LongRunLowGrayLevelEmphasis', array(0.27603847)), ('original_glrlm_LowGrayLevelRunEmphasis', array(0.1094873)), ('original_glrlm_RunEntropy', array(4.60240579)), ('original_glrlm_RunLengthNonUniformity', array(41270.89513643)), ('original_glrlm_RunLengthNonUniformityNormalized', array(0.69072675)), ('original_glrlm_RunPercentage', array(0.80281553)), ('original_glrlm_RunVariance', array(0.38762098)), ('original_glrlm_ShortRunEmphasis', array(0.856858)), ('original_glrlm_ShortRunHighGrayLevelEmphasis', array(47.16335343)), ('original_glrlm_ShortRunLowGrayLevelEmphasis', array(0.08871494)), ('original_glszm_GrayLevelNonUniformity', array(497.02333841)), ('original_glszm_GrayLevelNonUniformityNormalized', array(0.06304203)), ('original_glszm_GrayLevelVariance', array(25.01928586)), ('original_glszm_HighGrayLevelZoneEmphasis', array(106.30263825)), ('original_glszm_LargeAreaEmphasis', array(45782.56481481)), ('original_glszm_LargeAreaHighGrayLevelEmphasis', array(743906.98097412)), ('original_glszm_LargeAreaLowGrayLevelEmphasis', array(4821.92633206)), ('original_glszm_LowGrayLevelZoneEmphasis', array(0.07477286)), ('original_glszm_SizeZoneNonUniformity', array(2636.30593607)), ('original_glszm_SizeZoneNonUniformityNormalized', array(0.33438685)), ('original_glszm_SmallAreaEmphasis', array(0.59815733)), ('original_glszm_SmallAreaHighGrayLevelEmphasis', array(66.79093393)), ('original_glszm_SmallAreaLowGrayLevelEmphasis', array(0.04173685)), ('original_glszm_ZoneEntropy', array(6.58340624)), ('original_glszm_ZonePercentage', array(0.10617753)), ('original_glszm_ZoneVariance', array(45693.86253574)), ('original_ngtdm_Busyness', array(32.88406276)), ('original_ngtdm_Coarseness', array(0.00013026)), ('original_ngtdm_Complexity', array(918.2753849)), ('original_ngtdm_Contrast', array(0.03562825)), ('original_ngtdm_Strength', array(0.15677457))])\n"
     ]
    }
   ],
   "source": [
    "import SimpleITK as sitk  \n",
    "import numpy as np  \n",
    "import pandas as pd\n",
    "# Read the images  \n",
    "im = sitk.ReadImage(\"C:\\\\Users\\\\Sijal\\\\Downloads\\\\0001_MRI_Image_a.nrrd\")  \n",
    "ma_array = sitk.GetArrayFromImage(sitk.ReadImage(\"C:\\\\Users\\\\Sijal\\\\Downloads\\\\0001_MRI_Prostate_a.nii.seg.nrrd\"))  \n",
    "\n",
    "# Now, you can pass the array to GetImageFromArray  \n",
    "ma = sitk.GetImageFromArray(ma_array)  \n",
    "ma.CopyInformation(im)  # Copy geometric infoation(im)  # Copy geometric info\n",
    "\n",
    "from radiomics.featureextractor import RadiomicsFeatureExtractor\n",
    "extractor = RadiomicsFeatureExtractor()\n",
    "features = extractor.execute(im, ma)\n",
    "features_df = pd.DataFrame.from_dict(features, orient='index', columns=['Value'])\n",
    "features_df.to_excel('extracted_features.xlsx', engine='openpyxl')\n",
    "print(features)"
   ]
  },
  {
   "cell_type": "code",
   "execution_count": 7,
   "id": "213509ac-8c05-4526-8afc-6c95f4fd49cf",
   "metadata": {},
   "outputs": [],
   "source": []
  },
  {
   "cell_type": "code",
   "execution_count": null,
   "id": "fb48c779-9436-44ae-b0c7-008cfe542c0f",
   "metadata": {},
   "outputs": [],
   "source": []
  }
 ],
 "metadata": {
  "kernelspec": {
   "display_name": "Python 3 (ipykernel)",
   "language": "python",
   "name": "python3"
  },
  "language_info": {
   "codemirror_mode": {
    "name": "ipython",
    "version": 3
   },
   "file_extension": ".py",
   "mimetype": "text/x-python",
   "name": "python",
   "nbconvert_exporter": "python",
   "pygments_lexer": "ipython3",
   "version": "3.9.19"
  }
 },
 "nbformat": 4,
 "nbformat_minor": 5
}
