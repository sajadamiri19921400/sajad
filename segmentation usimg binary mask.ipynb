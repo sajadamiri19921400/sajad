{
 "cells": [
  {
   "cell_type": "code",
   "execution_count": null,
   "id": "c125a830",
   "metadata": {},
   "outputs": [],
   "source": [
    "import os\n",
    "import nibabel as nib\n",
    "import numpy as np\n",
    "\n",
    "# Define the paths to your folders\n",
    "mri_folder = 'path_to_mri_folder'\n",
    "mask_folder = 'path_to_mask_folder'\n",
    "output_folder = 'path_to_output_folder'\n",
    "\n",
    "# Ensure the output folder exists\n",
    "os.makedirs(output_folder, exist_ok=True)\n",
    "\n",
    "# Process each MRI image and its corresponding mask\n",
    "for mri_filename in os.listdir(mri_folder):\n",
    "    if mri_filename.endswith('.nii') or mri_filename.endswith('.nii.gz'):\n",
    "        # Load the MRI image\n",
    "        mri_path = os.path.join(mri_folder, mri_filename)\n",
    "        mri_img = nib.load(mri_path)\n",
    "        mri_data = mri_img.get_fdata()\n",
    "\n",
    "        # Load the corresponding mask\n",
    "        mask_path = os.path.join(mask_folder, mri_filename)\n",
    "        mask_img = nib.load(mask_path)\n",
    "        mask_data = mask_img.get_fdata()\n",
    "\n",
    "        # Apply the mask to the MRI image\n",
    "        segmented_data = mri_data * mask_data\n",
    "\n",
    "        # Save the segmented image\n",
    "        segmented_img = nib.Nifti1Image(segmented_data, mri_img.affine)\n",
    "        output_path = os.path.join(output_folder, mri_filename)\n",
    "        nib.save(segmented_img, output_path)\n",
    "\n",
    "        print(f'Segmented image saved: {output_path}')\n"
   ]
  }
 ],
 "metadata": {
  "kernelspec": {
   "display_name": "Python 3 (ipykernel)",
   "language": "python",
   "name": "python3"
  },
  "language_info": {
   "codemirror_mode": {
    "name": "ipython",
    "version": 3
   },
   "file_extension": ".py",
   "mimetype": "text/x-python",
   "name": "python",
   "nbconvert_exporter": "python",
   "pygments_lexer": "ipython3",
   "version": "3.12.5"
  }
 },
 "nbformat": 4,
 "nbformat_minor": 5
}
